{
  "nbformat": 4,
  "nbformat_minor": 0,
  "metadata": {
    "colab": {
      "name": "Next_word_prediction.ipynb",
      "provenance": [],
      "collapsed_sections": [],
      "authorship_tag": "ABX9TyM9UO5hSfX4ntUz12UUf6fA",
      "include_colab_link": true
    },
    "kernelspec": {
      "name": "python3",
      "display_name": "Python 3"
    },
    "language_info": {
      "name": "python"
    },
    "accelerator": "GPU"
  },
  "cells": [
    {
      "cell_type": "markdown",
      "metadata": {
        "id": "view-in-github",
        "colab_type": "text"
      },
      "source": [
        "<a href=\"https://colab.research.google.com/github/vikashnitk/Next-word-prediction-LSTM/blob/main/Next_word_prediction.ipynb\" target=\"_parent\"><img src=\"https://colab.research.google.com/assets/colab-badge.svg\" alt=\"Open In Colab\"/></a>"
      ]
    },
    {
      "cell_type": "code",
      "metadata": {
        "id": "rdUGF4FXSnEN"
      },
      "source": [
        "import tensorflow as tf\n",
        "from tensorflow.keras.preprocessing.text import Tokenizer\n",
        "from tensorflow.keras.layers import Embedding, LSTM, Dense\n",
        "from tensorflow.keras.models import Sequential\n",
        "from tensorflow.keras.utils import to_categorical\n",
        "from tensorflow.keras.optimizers import Adam\n",
        "import pickle\n",
        "import numpy as np\n",
        "import os"
      ],
      "execution_count": 2,
      "outputs": []
    },
    {
      "cell_type": "code",
      "metadata": {
        "colab": {
          "base_uri": "https://localhost:8080/"
        },
        "id": "w8vYT78TTxMh",
        "outputId": "093e6f0e-a22c-499d-85fe-e8502e036318"
      },
      "source": [
        "\"\"\"\n",
        "    Dataset: http://www.gutenberg.org/cache/epub/5200/pg5200.txt\n",
        "    Remove all the unnecessary data and label it as Metamorphosis-clean.\n",
        "    The starting and ending lines should be as follows.\n",
        "\n",
        "\"\"\"\n",
        "\n",
        "\n",
        "file = open(\"/content/drive/MyDrive/ML_projects/next_word_predic_data/metamorphosis_clean.txt\", \"r\", encoding = \"utf8\")\n",
        "lines = []\n",
        "\n",
        "for i in file:\n",
        "    lines.append(i)\n",
        "    \n",
        "print(\"The First Line: \", lines[0])\n",
        "print(\"The Last Line: \", lines[-1])"
      ],
      "execution_count": 4,
      "outputs": [
        {
          "output_type": "stream",
          "text": [
            "The First Line:  ﻿One morning, when Gregor Samsa woke from troubled dreams, he found\n",
            "\n",
            "The Last Line:  first to get up and stretch out her young body.\n"
          ],
          "name": "stdout"
        }
      ]
    },
    {
      "cell_type": "code",
      "metadata": {
        "colab": {
          "base_uri": "https://localhost:8080/",
          "height": 69
        },
        "id": "8a60wJT2T7-X",
        "outputId": "a0589f05-9df0-4cf7-ee89-afa8853ae81d"
      },
      "source": [
        "data = \"\"\n",
        "\n",
        "for i in lines:\n",
        "    data = ' '. join(lines)\n",
        "    \n",
        "data = data.replace('\\n', '').replace('\\r', '').replace('\\ufeff', '')\n",
        "data[:360]"
      ],
      "execution_count": 5,
      "outputs": [
        {
          "output_type": "execute_result",
          "data": {
            "application/vnd.google.colaboratory.intrinsic+json": {
              "type": "string"
            },
            "text/plain": [
              "'One morning, when Gregor Samsa woke from troubled dreams, he found himself transformed in his bed into a horrible vermin.  He lay on his armour-like back, and if he lifted his head a little he could see his brown belly, slightly domed and divided by arches into stiff sections.  The bedding was hardly able to cover it and seemed ready to slide off any moment.'"
            ]
          },
          "metadata": {
            "tags": []
          },
          "execution_count": 5
        }
      ]
    },
    {
      "cell_type": "code",
      "metadata": {
        "colab": {
          "base_uri": "https://localhost:8080/",
          "height": 86
        },
        "id": "21PF8anTUAT-",
        "outputId": "949b99cf-134d-4d6a-d3e6-b56ff72858ed"
      },
      "source": [
        "import string\n",
        "\n",
        "translator = str.maketrans(string.punctuation, ' '*len(string.punctuation)) #map punctuation to space\n",
        "new_data = data.translate(translator)\n",
        "\n",
        "new_data[:500]"
      ],
      "execution_count": 6,
      "outputs": [
        {
          "output_type": "execute_result",
          "data": {
            "application/vnd.google.colaboratory.intrinsic+json": {
              "type": "string"
            },
            "text/plain": [
              "'One morning  when Gregor Samsa woke from troubled dreams  he found himself transformed in his bed into a horrible vermin   He lay on his armour like back  and if he lifted his head a little he could see his brown belly  slightly domed and divided by arches into stiff sections   The bedding was hardly able to cover it and seemed ready to slide off any moment   His many legs  pitifully thin compared with the size of the rest of him  waved about helplessly as he looked    What s happened to me   he'"
            ]
          },
          "metadata": {
            "tags": []
          },
          "execution_count": 6
        }
      ]
    },
    {
      "cell_type": "code",
      "metadata": {
        "colab": {
          "base_uri": "https://localhost:8080/",
          "height": 86
        },
        "id": "ev4XXP5WUDrt",
        "outputId": "259a59ca-26b4-4811-9b87-687b59f564f0"
      },
      "source": [
        "z = []\n",
        "\n",
        "for i in data.split():\n",
        "    if i not in z:\n",
        "        z.append(i)\n",
        "        \n",
        "data = ' '.join(z)\n",
        "data[:500]"
      ],
      "execution_count": 8,
      "outputs": [
        {
          "output_type": "execute_result",
          "data": {
            "application/vnd.google.colaboratory.intrinsic+json": {
              "type": "string"
            },
            "text/plain": [
              "'One morning, when Gregor Samsa woke from troubled dreams, he found himself transformed in his bed into a horrible vermin. He lay on armour-like back, and if lifted head little could see brown belly, slightly domed divided by arches stiff sections. The bedding was hardly able to cover it seemed ready slide off any moment. His many legs, pitifully thin compared with the size of rest him, waved about helplessly as looked. \"What\\'s happened me?\" thought. It wasn\\'t dream. room, proper human room altho'"
            ]
          },
          "metadata": {
            "tags": []
          },
          "execution_count": 8
        }
      ]
    },
    {
      "cell_type": "code",
      "metadata": {
        "colab": {
          "base_uri": "https://localhost:8080/"
        },
        "id": "9D_9vC9rUMaY",
        "outputId": "3341c1a9-8a2e-4641-cd83-e74b6257928f"
      },
      "source": [
        "tokenizer = Tokenizer()\n",
        "tokenizer.fit_on_texts([data])\n",
        "\n",
        "# saving the tokenizer for predict function.\n",
        "pickle.dump(tokenizer, open('/content/drive/MyDrive/ML_projects/next_word_predic_data/tokenizer.pkl', 'wb'))\n",
        "\n",
        "sequence_data = tokenizer.texts_to_sequences([data])[0]\n",
        "sequence_data[:5]"
      ],
      "execution_count": 21,
      "outputs": [
        {
          "output_type": "execute_result",
          "data": {
            "text/plain": [
              "[17, 53, 293, 2, 18]"
            ]
          },
          "metadata": {
            "tags": []
          },
          "execution_count": 21
        }
      ]
    },
    {
      "cell_type": "code",
      "metadata": {
        "colab": {
          "base_uri": "https://localhost:8080/"
        },
        "id": "depu5I4RUeG_",
        "outputId": "66135cbd-271b-4e63-cfa2-2e91b15df353"
      },
      "source": [
        "vocab_size = len(tokenizer.word_index) + 1\n",
        "print(vocab_size)"
      ],
      "execution_count": 22,
      "outputs": [
        {
          "output_type": "stream",
          "text": [
            "2617\n"
          ],
          "name": "stdout"
        }
      ]
    },
    {
      "cell_type": "code",
      "metadata": {
        "colab": {
          "base_uri": "https://localhost:8080/"
        },
        "id": "pZca7W_IUj1i",
        "outputId": "721aa904-bfbd-4c0d-d3fc-e5a82c2db5e6"
      },
      "source": [
        "sequences = []\n",
        "\n",
        "for i in range(1, len(sequence_data)):\n",
        "    words = sequence_data[i-1:i+1]\n",
        "    sequences.append(words)\n",
        "    \n",
        "print(\"The Length of sequences are: \", len(sequences))\n",
        "sequences = np.array(sequences)\n",
        "sequences[:10]"
      ],
      "execution_count": 23,
      "outputs": [
        {
          "output_type": "stream",
          "text": [
            "The Length of sequences are:  3889\n"
          ],
          "name": "stdout"
        },
        {
          "output_type": "execute_result",
          "data": {
            "text/plain": [
              "array([[ 17,  53],\n",
              "       [ 53, 293],\n",
              "       [293,   2],\n",
              "       [  2,  18],\n",
              "       [ 18, 729],\n",
              "       [729, 135],\n",
              "       [135, 730],\n",
              "       [730, 294],\n",
              "       [294,   8],\n",
              "       [  8, 731]])"
            ]
          },
          "metadata": {
            "tags": []
          },
          "execution_count": 23
        }
      ]
    },
    {
      "cell_type": "code",
      "metadata": {
        "id": "kcXZTLBOazA-"
      },
      "source": [
        "X = []\n",
        "y = []\n",
        "\n",
        "for i in sequences:\n",
        "    X.append(i[0])\n",
        "    y.append(i[1])\n",
        "    \n",
        "X = np.array(X)\n",
        "y = np.array(y)"
      ],
      "execution_count": 24,
      "outputs": []
    },
    {
      "cell_type": "code",
      "metadata": {
        "colab": {
          "base_uri": "https://localhost:8080/"
        },
        "id": "eKO1nj_aa-yc",
        "outputId": "393f44c4-0da4-460e-c40e-bddeca08daf3"
      },
      "source": [
        "print(\"The Data is: \", X[:10])\n",
        "print(\"The responses are: \", y[:10])"
      ],
      "execution_count": 26,
      "outputs": [
        {
          "output_type": "stream",
          "text": [
            "The Data is:  [ 17  53 293   2  18 729 135 730 294   8]\n",
            "The responses are:  [ 53 293   2  18 729 135 730 294   8 731]\n"
          ],
          "name": "stdout"
        }
      ]
    },
    {
      "cell_type": "code",
      "metadata": {
        "colab": {
          "base_uri": "https://localhost:8080/"
        },
        "id": "Erfhm7-0bHSL",
        "outputId": "fe099af5-e9f9-494e-93d9-25a75d9f7b12"
      },
      "source": [
        "y = to_categorical(y, num_classes=vocab_size)\n",
        "y[:5]"
      ],
      "execution_count": 27,
      "outputs": [
        {
          "output_type": "execute_result",
          "data": {
            "text/plain": [
              "array([[0., 0., 0., ..., 0., 0., 0.],\n",
              "       [0., 0., 0., ..., 0., 0., 0.],\n",
              "       [0., 0., 1., ..., 0., 0., 0.],\n",
              "       [0., 0., 0., ..., 0., 0., 0.],\n",
              "       [0., 0., 0., ..., 0., 0., 0.]], dtype=float32)"
            ]
          },
          "metadata": {
            "tags": []
          },
          "execution_count": 27
        }
      ]
    },
    {
      "cell_type": "code",
      "metadata": {
        "id": "7pAK9TvvbXm5"
      },
      "source": [
        "model = Sequential()\n",
        "model.add(Embedding(vocab_size, 10, input_length=1))\n",
        "model.add(LSTM(1000, return_sequences=True))\n",
        "model.add(LSTM(1000))\n",
        "model.add(Dense(1000, activation=\"relu\"))\n",
        "model.add(Dense(vocab_size, activation=\"softmax\"))"
      ],
      "execution_count": 28,
      "outputs": []
    },
    {
      "cell_type": "code",
      "metadata": {
        "colab": {
          "base_uri": "https://localhost:8080/"
        },
        "id": "Ege4PxFRbgEJ",
        "outputId": "0ef73f2b-ffbf-4cd1-e2d9-9754a1228509"
      },
      "source": [
        "model.summary()"
      ],
      "execution_count": 29,
      "outputs": [
        {
          "output_type": "stream",
          "text": [
            "Model: \"sequential\"\n",
            "_________________________________________________________________\n",
            "Layer (type)                 Output Shape              Param #   \n",
            "=================================================================\n",
            "embedding (Embedding)        (None, 1, 10)             26170     \n",
            "_________________________________________________________________\n",
            "lstm (LSTM)                  (None, 1, 1000)           4044000   \n",
            "_________________________________________________________________\n",
            "lstm_1 (LSTM)                (None, 1000)              8004000   \n",
            "_________________________________________________________________\n",
            "dense (Dense)                (None, 1000)              1001000   \n",
            "_________________________________________________________________\n",
            "dense_1 (Dense)              (None, 2617)              2619617   \n",
            "=================================================================\n",
            "Total params: 15,694,787\n",
            "Trainable params: 15,694,787\n",
            "Non-trainable params: 0\n",
            "_________________________________________________________________\n"
          ],
          "name": "stdout"
        }
      ]
    },
    {
      "cell_type": "code",
      "metadata": {
        "colab": {
          "base_uri": "https://localhost:8080/",
          "height": 564
        },
        "id": "fjG84VTbbjY7",
        "outputId": "b55a13fa-5ee0-47d3-9265-7dc7d5b9260a"
      },
      "source": [
        "from tensorflow import keras\n",
        "from keras.utils.vis_utils import plot_model\n",
        "\n",
        "keras.utils.plot_model(model, to_file='/content/drive/MyDrive/ML_projects/next_word_predic_data/model.png', show_layer_names=True)"
      ],
      "execution_count": 30,
      "outputs": [
        {
          "output_type": "execute_result",
          "data": {
            "image/png": "[encoded data removed]",
            "text/plain": [
              "<IPython.core.display.Image object>"
            ]
          },
          "metadata": {
            "tags": []
          },
          "execution_count": 30
        }
      ]
    },
    {
      "cell_type": "code",
      "metadata": {
        "id": "abjlly6pbtgG"
      },
      "source": [
        "from tensorflow.keras.callbacks import ModelCheckpoint\n",
        "from tensorflow.keras.callbacks import ReduceLROnPlateau\n",
        "from tensorflow.keras.callbacks import TensorBoard\n",
        "\n",
        "checkpoint = ModelCheckpoint(\"/content/drive/MyDrive/ML_projects/next_word_predic_data/nextword.h5\", monitor='loss', verbose=1,\n",
        "    save_best_only=True, mode='auto')\n",
        "\n",
        "reduce = ReduceLROnPlateau(monitor='loss', factor=0.2, patience=3, min_lr=0.0001, verbose = 1)\n",
        "\n",
        "logdir='/content/drive/MyDrive/ML_projects/next_word_predic_data/logsnextword1'\n",
        "tensorboard_Visualization = TensorBoard(log_dir=logdir)"
      ],
      "execution_count": 31,
      "outputs": []
    },
    {
      "cell_type": "code",
      "metadata": {
        "colab": {
          "base_uri": "https://localhost:8080/"
        },
        "id": "Vr2dXVhpb0nn",
        "outputId": "c786e663-4c36-47dd-aff3-08a3febc95ab"
      },
      "source": [
        "model.compile(loss=\"categorical_crossentropy\", optimizer=Adam(lr=0.001))"
      ],
      "execution_count": 32,
      "outputs": [
        {
          "output_type": "stream",
          "text": [
            "/usr/local/lib/python3.7/dist-packages/tensorflow/python/keras/optimizer_v2/optimizer_v2.py:375: UserWarning: The `lr` argument is deprecated, use `learning_rate` instead.\n",
            "  \"The `lr` argument is deprecated, use `learning_rate` instead.\")\n"
          ],
          "name": "stderr"
        }
      ]
    },
    {
      "cell_type": "code",
      "metadata": {
        "colab": {
          "base_uri": "https://localhost:8080/"
        },
        "id": "b6TeriOfb14E",
        "outputId": "6265e1a3-aa3c-4053-8873-23dc396c4434"
      },
      "source": [
        "model.fit(X, y, epochs=100, batch_size=64, callbacks=[checkpoint, reduce, tensorboard_Visualization])"
      ],
      "execution_count": 34,
      "outputs": [
        {
          "output_type": "stream",
          "text": [
            "Epoch 1/100\n",
            "61/61 [==============================] - 1s 20ms/step - loss: 7.8606\n",
            "\n",
            "Epoch 00001: loss improved from 7.87531 to 7.86064, saving model to nextword1.h5\n",
            "Epoch 2/100\n",
            "61/61 [==============================] - 1s 11ms/step - loss: 7.8149\n",
            "\n",
            "Epoch 00002: loss improved from 7.86064 to 7.81494, saving model to nextword1.h5\n",
            "Epoch 3/100\n",
            "61/61 [==============================] - 1s 11ms/step - loss: 7.6342\n",
            "\n",
            "Epoch 00003: loss improved from 7.81494 to 7.63418, saving model to nextword1.h5\n",
            "Epoch 4/100\n",
            "61/61 [==============================] - 1s 11ms/step - loss: 7.4322\n",
            "\n",
            "Epoch 00004: loss improved from 7.63418 to 7.43220, saving model to nextword1.h5\n",
            "Epoch 5/100\n",
            "61/61 [==============================] - 1s 11ms/step - loss: 7.2538\n",
            "\n",
            "Epoch 00005: loss improved from 7.43220 to 7.25382, saving model to nextword1.h5\n",
            "Epoch 6/100\n",
            "61/61 [==============================] - 1s 11ms/step - loss: 7.1155\n",
            "\n",
            "Epoch 00006: loss improved from 7.25382 to 7.11553, saving model to nextword1.h5\n",
            "Epoch 7/100\n",
            "61/61 [==============================] - 1s 11ms/step - loss: 6.9197\n",
            "\n",
            "Epoch 00007: loss improved from 7.11553 to 6.91971, saving model to nextword1.h5\n",
            "Epoch 8/100\n",
            "61/61 [==============================] - 1s 11ms/step - loss: 6.6485\n",
            "\n",
            "Epoch 00008: loss improved from 6.91971 to 6.64851, saving model to nextword1.h5\n",
            "Epoch 9/100\n",
            "61/61 [==============================] - 1s 11ms/step - loss: 6.3850\n",
            "\n",
            "Epoch 00009: loss improved from 6.64851 to 6.38501, saving model to nextword1.h5\n",
            "Epoch 10/100\n",
            "61/61 [==============================] - 1s 11ms/step - loss: 6.1680\n",
            "\n",
            "Epoch 00010: loss improved from 6.38501 to 6.16797, saving model to nextword1.h5\n",
            "Epoch 11/100\n",
            "61/61 [==============================] - 1s 11ms/step - loss: 5.9604\n",
            "\n",
            "Epoch 00011: loss improved from 6.16797 to 5.96038, saving model to nextword1.h5\n",
            "Epoch 12/100\n",
            "61/61 [==============================] - 1s 11ms/step - loss: 5.7693\n",
            "\n",
            "Epoch 00012: loss improved from 5.96038 to 5.76927, saving model to nextword1.h5\n",
            "Epoch 13/100\n",
            "61/61 [==============================] - 1s 11ms/step - loss: 5.5803\n",
            "\n",
            "Epoch 00013: loss improved from 5.76927 to 5.58032, saving model to nextword1.h5\n",
            "Epoch 14/100\n",
            "61/61 [==============================] - 1s 11ms/step - loss: 5.4401\n",
            "\n",
            "Epoch 00014: loss improved from 5.58032 to 5.44013, saving model to nextword1.h5\n",
            "Epoch 15/100\n",
            "61/61 [==============================] - 1s 11ms/step - loss: 5.3053\n",
            "\n",
            "Epoch 00015: loss improved from 5.44013 to 5.30533, saving model to nextword1.h5\n",
            "Epoch 16/100\n",
            "61/61 [==============================] - 1s 12ms/step - loss: 5.1628\n",
            "\n",
            "Epoch 00016: loss improved from 5.30533 to 5.16276, saving model to nextword1.h5\n",
            "Epoch 17/100\n",
            "61/61 [==============================] - 1s 11ms/step - loss: 4.9982\n",
            "\n",
            "Epoch 00017: loss improved from 5.16276 to 4.99820, saving model to nextword1.h5\n",
            "Epoch 18/100\n",
            "61/61 [==============================] - 1s 11ms/step - loss: 4.9065\n",
            "\n",
            "Epoch 00018: loss improved from 4.99820 to 4.90649, saving model to nextword1.h5\n",
            "Epoch 19/100\n",
            "61/61 [==============================] - 1s 11ms/step - loss: 4.7977\n",
            "\n",
            "Epoch 00019: loss improved from 4.90649 to 4.79773, saving model to nextword1.h5\n",
            "Epoch 20/100\n",
            "61/61 [==============================] - 1s 11ms/step - loss: 4.6899\n",
            "\n",
            "Epoch 00020: loss improved from 4.79773 to 4.68994, saving model to nextword1.h5\n",
            "Epoch 21/100\n",
            "61/61 [==============================] - 1s 12ms/step - loss: 4.6169\n",
            "\n",
            "Epoch 00021: loss improved from 4.68994 to 4.61690, saving model to nextword1.h5\n",
            "Epoch 22/100\n",
            "61/61 [==============================] - 1s 12ms/step - loss: 4.5386\n",
            "\n",
            "Epoch 00022: loss improved from 4.61690 to 4.53861, saving model to nextword1.h5\n",
            "Epoch 23/100\n",
            "61/61 [==============================] - 1s 11ms/step - loss: 4.4431\n",
            "\n",
            "Epoch 00023: loss improved from 4.53861 to 4.44314, saving model to nextword1.h5\n",
            "Epoch 24/100\n",
            "61/61 [==============================] - 1s 12ms/step - loss: 4.3618\n",
            "\n",
            "Epoch 00024: loss improved from 4.44314 to 4.36176, saving model to nextword1.h5\n",
            "Epoch 25/100\n",
            "61/61 [==============================] - 1s 11ms/step - loss: 4.2863\n",
            "\n",
            "Epoch 00025: loss improved from 4.36176 to 4.28627, saving model to nextword1.h5\n",
            "Epoch 26/100\n",
            "61/61 [==============================] - 1s 13ms/step - loss: 4.2020\n",
            "\n",
            "Epoch 00026: loss improved from 4.28627 to 4.20200, saving model to nextword1.h5\n",
            "Epoch 27/100\n",
            "61/61 [==============================] - 1s 12ms/step - loss: 4.1248\n",
            "\n",
            "Epoch 00027: loss improved from 4.20200 to 4.12478, saving model to nextword1.h5\n",
            "Epoch 28/100\n",
            "61/61 [==============================] - 1s 11ms/step - loss: 4.0919\n",
            "\n",
            "Epoch 00028: loss improved from 4.12478 to 4.09191, saving model to nextword1.h5\n",
            "Epoch 29/100\n",
            "61/61 [==============================] - 1s 12ms/step - loss: 4.0242\n",
            "\n",
            "Epoch 00029: loss improved from 4.09191 to 4.02417, saving model to nextword1.h5\n",
            "Epoch 30/100\n",
            "61/61 [==============================] - 1s 11ms/step - loss: 3.9760\n",
            "\n",
            "Epoch 00030: loss improved from 4.02417 to 3.97596, saving model to nextword1.h5\n",
            "Epoch 31/100\n",
            "61/61 [==============================] - 1s 11ms/step - loss: 3.9196\n",
            "\n",
            "Epoch 00031: loss improved from 3.97596 to 3.91958, saving model to nextword1.h5\n",
            "Epoch 32/100\n",
            "61/61 [==============================] - 1s 13ms/step - loss: 3.7950\n",
            "\n",
            "Epoch 00032: loss improved from 3.91958 to 3.79503, saving model to nextword1.h5\n",
            "Epoch 33/100\n",
            "61/61 [==============================] - 1s 12ms/step - loss: 3.7240\n",
            "\n",
            "Epoch 00033: loss improved from 3.79503 to 3.72402, saving model to nextword1.h5\n",
            "Epoch 34/100\n",
            "61/61 [==============================] - 1s 12ms/step - loss: 3.6549\n",
            "\n",
            "Epoch 00034: loss improved from 3.72402 to 3.65495, saving model to nextword1.h5\n",
            "Epoch 35/100\n",
            "61/61 [==============================] - 1s 11ms/step - loss: 3.4943\n",
            "\n",
            "Epoch 00035: loss improved from 3.65495 to 3.49434, saving model to nextword1.h5\n",
            "Epoch 36/100\n",
            "61/61 [==============================] - 1s 12ms/step - loss: 3.3988\n",
            "\n",
            "Epoch 00036: loss improved from 3.49434 to 3.39879, saving model to nextword1.h5\n",
            "Epoch 37/100\n",
            "61/61 [==============================] - 1s 13ms/step - loss: 3.3012\n",
            "\n",
            "Epoch 00037: loss improved from 3.39879 to 3.30123, saving model to nextword1.h5\n",
            "Epoch 38/100\n",
            "61/61 [==============================] - 1s 13ms/step - loss: 3.2396\n",
            "\n",
            "Epoch 00038: loss improved from 3.30123 to 3.23959, saving model to nextword1.h5\n",
            "Epoch 39/100\n",
            "61/61 [==============================] - 1s 12ms/step - loss: 3.1301\n",
            "\n",
            "Epoch 00039: loss improved from 3.23959 to 3.13008, saving model to nextword1.h5\n",
            "Epoch 40/100\n",
            "61/61 [==============================] - 1s 13ms/step - loss: 3.0700\n",
            "\n",
            "Epoch 00040: loss improved from 3.13008 to 3.07000, saving model to nextword1.h5\n",
            "Epoch 41/100\n",
            "61/61 [==============================] - 1s 12ms/step - loss: 3.0160\n",
            "\n",
            "Epoch 00041: loss improved from 3.07000 to 3.01597, saving model to nextword1.h5\n",
            "Epoch 42/100\n",
            "61/61 [==============================] - 1s 11ms/step - loss: 2.9201\n",
            "\n",
            "Epoch 00042: loss improved from 3.01597 to 2.92013, saving model to nextword1.h5\n",
            "Epoch 43/100\n",
            "61/61 [==============================] - 1s 12ms/step - loss: 2.8513\n",
            "\n",
            "Epoch 00043: loss improved from 2.92013 to 2.85132, saving model to nextword1.h5\n",
            "Epoch 44/100\n",
            "61/61 [==============================] - 1s 12ms/step - loss: 2.8069\n",
            "\n",
            "Epoch 00044: loss improved from 2.85132 to 2.80688, saving model to nextword1.h5\n",
            "Epoch 45/100\n",
            "61/61 [==============================] - 1s 11ms/step - loss: 2.7363\n",
            "\n",
            "Epoch 00045: loss improved from 2.80688 to 2.73632, saving model to nextword1.h5\n",
            "Epoch 46/100\n",
            "61/61 [==============================] - 1s 11ms/step - loss: 2.6550\n",
            "\n",
            "Epoch 00046: loss improved from 2.73632 to 2.65499, saving model to nextword1.h5\n",
            "Epoch 47/100\n",
            "61/61 [==============================] - 1s 11ms/step - loss: 2.5729\n",
            "\n",
            "Epoch 00047: loss improved from 2.65499 to 2.57291, saving model to nextword1.h5\n",
            "Epoch 48/100\n",
            "61/61 [==============================] - 1s 12ms/step - loss: 2.5305\n",
            "\n",
            "Epoch 00048: loss improved from 2.57291 to 2.53050, saving model to nextword1.h5\n",
            "Epoch 49/100\n",
            "61/61 [==============================] - 1s 11ms/step - loss: 2.4996\n",
            "\n",
            "Epoch 00049: loss improved from 2.53050 to 2.49960, saving model to nextword1.h5\n",
            "Epoch 50/100\n",
            "61/61 [==============================] - 1s 11ms/step - loss: 2.4507\n",
            "\n",
            "Epoch 00050: loss improved from 2.49960 to 2.45068, saving model to nextword1.h5\n",
            "Epoch 51/100\n",
            "61/61 [==============================] - 1s 12ms/step - loss: 2.4353\n",
            "\n",
            "Epoch 00051: loss improved from 2.45068 to 2.43525, saving model to nextword1.h5\n",
            "Epoch 52/100\n",
            "61/61 [==============================] - 1s 11ms/step - loss: 2.3836\n",
            "\n",
            "Epoch 00052: loss improved from 2.43525 to 2.38355, saving model to nextword1.h5\n",
            "Epoch 53/100\n",
            "61/61 [==============================] - 1s 11ms/step - loss: 2.3333\n",
            "\n",
            "Epoch 00053: loss improved from 2.38355 to 2.33327, saving model to nextword1.h5\n",
            "Epoch 54/100\n",
            "61/61 [==============================] - 1s 12ms/step - loss: 2.2829\n",
            "\n",
            "Epoch 00054: loss improved from 2.33327 to 2.28288, saving model to nextword1.h5\n",
            "Epoch 55/100\n",
            "61/61 [==============================] - 1s 12ms/step - loss: 2.2170\n",
            "\n",
            "Epoch 00055: loss improved from 2.28288 to 2.21704, saving model to nextword1.h5\n",
            "Epoch 56/100\n",
            "61/61 [==============================] - 1s 11ms/step - loss: 2.2114\n",
            "\n",
            "Epoch 00056: loss improved from 2.21704 to 2.21139, saving model to nextword1.h5\n",
            "Epoch 57/100\n",
            "61/61 [==============================] - 1s 12ms/step - loss: 2.1598\n",
            "\n",
            "Epoch 00057: loss improved from 2.21139 to 2.15976, saving model to nextword1.h5\n",
            "Epoch 58/100\n",
            "61/61 [==============================] - 1s 12ms/step - loss: 2.1096\n",
            "\n",
            "Epoch 00058: loss improved from 2.15976 to 2.10959, saving model to nextword1.h5\n",
            "Epoch 59/100\n",
            "61/61 [==============================] - 1s 12ms/step - loss: 2.0595\n",
            "\n",
            "Epoch 00059: loss improved from 2.10959 to 2.05954, saving model to nextword1.h5\n",
            "Epoch 60/100\n",
            "61/61 [==============================] - 1s 12ms/step - loss: 2.0469\n",
            "\n",
            "Epoch 00060: loss improved from 2.05954 to 2.04693, saving model to nextword1.h5\n",
            "Epoch 61/100\n",
            "61/61 [==============================] - 1s 11ms/step - loss: 2.0364\n",
            "\n",
            "Epoch 00061: loss improved from 2.04693 to 2.03644, saving model to nextword1.h5\n",
            "Epoch 62/100\n",
            "61/61 [==============================] - 1s 11ms/step - loss: 2.0232\n",
            "\n",
            "Epoch 00062: loss improved from 2.03644 to 2.02317, saving model to nextword1.h5\n",
            "Epoch 63/100\n",
            "61/61 [==============================] - 1s 12ms/step - loss: 1.9988\n",
            "\n",
            "Epoch 00063: loss improved from 2.02317 to 1.99883, saving model to nextword1.h5\n",
            "Epoch 64/100\n",
            "61/61 [==============================] - 1s 11ms/step - loss: 1.9933\n",
            "\n",
            "Epoch 00064: loss improved from 1.99883 to 1.99332, saving model to nextword1.h5\n",
            "Epoch 65/100\n",
            "61/61 [==============================] - 1s 11ms/step - loss: 1.9716\n",
            "\n",
            "Epoch 00065: loss improved from 1.99332 to 1.97157, saving model to nextword1.h5\n",
            "Epoch 66/100\n",
            "61/61 [==============================] - 1s 12ms/step - loss: 1.9317\n",
            "\n",
            "Epoch 00066: loss improved from 1.97157 to 1.93174, saving model to nextword1.h5\n",
            "Epoch 67/100\n",
            "61/61 [==============================] - 1s 11ms/step - loss: 1.8829\n",
            "\n",
            "Epoch 00067: loss improved from 1.93174 to 1.88291, saving model to nextword1.h5\n",
            "Epoch 68/100\n",
            "61/61 [==============================] - 1s 12ms/step - loss: 1.8713\n",
            "\n",
            "Epoch 00068: loss improved from 1.88291 to 1.87130, saving model to nextword1.h5\n",
            "Epoch 69/100\n",
            "61/61 [==============================] - 1s 12ms/step - loss: 1.8354\n",
            "\n",
            "Epoch 00069: loss improved from 1.87130 to 1.83536, saving model to nextword1.h5\n",
            "Epoch 70/100\n",
            "61/61 [==============================] - 1s 12ms/step - loss: 1.8016\n",
            "\n",
            "Epoch 00070: loss improved from 1.83536 to 1.80161, saving model to nextword1.h5\n",
            "Epoch 71/100\n",
            "61/61 [==============================] - 1s 12ms/step - loss: 1.7874\n",
            "\n",
            "Epoch 00071: loss improved from 1.80161 to 1.78745, saving model to nextword1.h5\n",
            "Epoch 72/100\n",
            "61/61 [==============================] - 1s 11ms/step - loss: 1.7837\n",
            "\n",
            "Epoch 00072: loss improved from 1.78745 to 1.78375, saving model to nextword1.h5\n",
            "Epoch 73/100\n",
            "61/61 [==============================] - 1s 12ms/step - loss: 1.7505\n",
            "\n",
            "Epoch 00073: loss improved from 1.78375 to 1.75047, saving model to nextword1.h5\n",
            "Epoch 74/100\n",
            "61/61 [==============================] - 1s 12ms/step - loss: 1.7355\n",
            "\n",
            "Epoch 00074: loss improved from 1.75047 to 1.73551, saving model to nextword1.h5\n",
            "Epoch 75/100\n",
            "61/61 [==============================] - 1s 12ms/step - loss: 1.7146\n",
            "\n",
            "Epoch 00075: loss improved from 1.73551 to 1.71463, saving model to nextword1.h5\n",
            "Epoch 76/100\n",
            "61/61 [==============================] - 1s 11ms/step - loss: 1.6867\n",
            "\n",
            "Epoch 00076: loss improved from 1.71463 to 1.68675, saving model to nextword1.h5\n",
            "Epoch 77/100\n",
            "61/61 [==============================] - 1s 12ms/step - loss: 1.6744\n",
            "\n",
            "Epoch 00077: loss improved from 1.68675 to 1.67438, saving model to nextword1.h5\n",
            "Epoch 78/100\n",
            "61/61 [==============================] - 1s 11ms/step - loss: 1.6670\n",
            "\n",
            "Epoch 00078: loss improved from 1.67438 to 1.66695, saving model to nextword1.h5\n",
            "Epoch 79/100\n",
            "61/61 [==============================] - 1s 11ms/step - loss: 1.7053\n",
            "\n",
            "Epoch 00079: loss did not improve from 1.66695\n",
            "Epoch 80/100\n",
            "61/61 [==============================] - 1s 11ms/step - loss: 1.6990\n",
            "\n",
            "Epoch 00080: loss did not improve from 1.66695\n",
            "Epoch 81/100\n",
            "61/61 [==============================] - 1s 11ms/step - loss: 1.6422\n",
            "\n",
            "Epoch 00081: loss improved from 1.66695 to 1.64221, saving model to nextword1.h5\n",
            "Epoch 82/100\n",
            "61/61 [==============================] - 1s 12ms/step - loss: 1.6045\n",
            "\n",
            "Epoch 00082: loss improved from 1.64221 to 1.60451, saving model to nextword1.h5\n",
            "Epoch 83/100\n",
            "61/61 [==============================] - 1s 12ms/step - loss: 1.6135\n",
            "\n",
            "Epoch 00083: loss did not improve from 1.60451\n",
            "Epoch 84/100\n",
            "61/61 [==============================] - 1s 11ms/step - loss: 1.6185\n",
            "\n",
            "Epoch 00084: loss did not improve from 1.60451\n",
            "Epoch 85/100\n",
            "61/61 [==============================] - 1s 11ms/step - loss: 1.5655\n",
            "\n",
            "Epoch 00085: loss improved from 1.60451 to 1.56554, saving model to nextword1.h5\n",
            "Epoch 86/100\n",
            "61/61 [==============================] - 1s 11ms/step - loss: 1.5519\n",
            "\n",
            "Epoch 00086: loss improved from 1.56554 to 1.55195, saving model to nextword1.h5\n",
            "Epoch 87/100\n",
            "61/61 [==============================] - 1s 12ms/step - loss: 1.5521\n",
            "\n",
            "Epoch 00087: loss did not improve from 1.55195\n",
            "Epoch 88/100\n",
            "61/61 [==============================] - 1s 11ms/step - loss: 1.5683\n",
            "\n",
            "Epoch 00088: loss did not improve from 1.55195\n",
            "Epoch 89/100\n",
            "61/61 [==============================] - 1s 11ms/step - loss: 1.5542\n",
            "\n",
            "Epoch 00089: loss did not improve from 1.55195\n",
            "\n",
            "Epoch 00089: ReduceLROnPlateau reducing learning rate to 0.00020000000949949026.\n",
            "Epoch 90/100\n",
            "61/61 [==============================] - 1s 11ms/step - loss: 1.1457\n",
            "\n",
            "Epoch 00090: loss improved from 1.55195 to 1.14574, saving model to nextword1.h5\n",
            "Epoch 91/100\n",
            "61/61 [==============================] - 1s 12ms/step - loss: 1.0049\n",
            "\n",
            "Epoch 00091: loss improved from 1.14574 to 1.00488, saving model to nextword1.h5\n",
            "Epoch 92/100\n",
            "61/61 [==============================] - 1s 11ms/step - loss: 0.9506\n",
            "\n",
            "Epoch 00092: loss improved from 1.00488 to 0.95059, saving model to nextword1.h5\n",
            "Epoch 93/100\n",
            "61/61 [==============================] - 1s 11ms/step - loss: 0.9195\n",
            "\n",
            "Epoch 00093: loss improved from 0.95059 to 0.91949, saving model to nextword1.h5\n",
            "Epoch 94/100\n",
            "61/61 [==============================] - 1s 12ms/step - loss: 0.8981\n",
            "\n",
            "Epoch 00094: loss improved from 0.91949 to 0.89811, saving model to nextword1.h5\n",
            "Epoch 95/100\n",
            "61/61 [==============================] - 1s 11ms/step - loss: 0.8888\n",
            "\n",
            "Epoch 00095: loss improved from 0.89811 to 0.88876, saving model to nextword1.h5\n",
            "Epoch 96/100\n",
            "61/61 [==============================] - 1s 12ms/step - loss: 0.8780\n",
            "\n",
            "Epoch 00096: loss improved from 0.88876 to 0.87798, saving model to nextword1.h5\n",
            "Epoch 97/100\n",
            "61/61 [==============================] - 1s 12ms/step - loss: 0.8651\n",
            "\n",
            "Epoch 00097: loss improved from 0.87798 to 0.86513, saving model to nextword1.h5\n",
            "Epoch 98/100\n",
            "61/61 [==============================] - 1s 12ms/step - loss: 0.8614\n",
            "\n",
            "Epoch 00098: loss improved from 0.86513 to 0.86144, saving model to nextword1.h5\n",
            "Epoch 99/100\n",
            "61/61 [==============================] - 1s 12ms/step - loss: 0.8528\n",
            "\n",
            "Epoch 00099: loss improved from 0.86144 to 0.85276, saving model to nextword1.h5\n",
            "Epoch 100/100\n",
            "61/61 [==============================] - 1s 12ms/step - loss: 0.8501\n",
            "\n",
            "Epoch 00100: loss improved from 0.85276 to 0.85011, saving model to nextword1.h5\n"
          ],
          "name": "stdout"
        },
        {
          "output_type": "execute_result",
          "data": {
            "text/plain": [
              "<tensorflow.python.keras.callbacks.History at 0x7fa89ecb3a50>"
            ]
          },
          "metadata": {
            "tags": []
          },
          "execution_count": 34
        }
      ]
    },
    {
      "cell_type": "code",
      "metadata": {
        "id": "tFP8ghVQdx9d"
      },
      "source": [
        "model.save('/content/drive/MyDrive/ML_projects/next_word_predic_data/nextword.h5')"
      ],
      "execution_count": 36,
      "outputs": []
    },
    {
      "cell_type": "code",
      "metadata": {
        "id": "ONEkFxB4eRmG"
      },
      "source": [
        "# Importing the Libraries\n",
        "\n",
        "from tensorflow.keras.models import load_model\n",
        "import numpy as np\n",
        "import pickle\n",
        "\n",
        "# Load the model and tokenizer\n",
        "\n",
        "model = load_model('/content/drive/MyDrive/ML_projects/next_word_predic_data/nextword.h5')\n",
        "tokenizer = pickle.load(open('/content/drive/MyDrive/ML_projects/next_word_predic_data/tokenizer.pkl', 'rb'))\n",
        "\n",
        "def Predict_Next_Words(model, tokenizer, text):\n",
        "    \"\"\"\n",
        "        In this function we are using the tokenizer and models trained\n",
        "        and we are creating the sequence of the text entered and then\n",
        "        using our model to predict and return the the predicted word.\n",
        "    \n",
        "    \"\"\"\n",
        "    for i in range(3):\n",
        "        sequence = tokenizer.texts_to_sequences([text])[0]\n",
        "        sequence = np.array(sequence)\n",
        "        \n",
        "        preds = model.predict_classes(sequence)\n",
        "\n",
        "        predicted_word = \"\"\n",
        "        \n",
        "        for key, value in tokenizer.word_index.items():\n",
        "            if value == preds:\n",
        "                predicted_word = key\n",
        "                break\n",
        "        \n",
        "        print(predicted_word)\n",
        "        return predicted_word"
      ],
      "execution_count": 37,
      "outputs": []
    },
    {
      "cell_type": "code",
      "metadata": {
        "colab": {
          "base_uri": "https://localhost:8080/"
        },
        "id": "3lIbIT7ZeliZ",
        "outputId": "29165a2a-4de5-46d5-b942-cd6e44c481b5"
      },
      "source": [
        "\"\"\"\n",
        "    We are testing our model and we will run the model\n",
        "    until the user decides to stop the script.\n",
        "    While the script is running we try and check if \n",
        "    the prediction can be made on the text. If no\n",
        "    prediction can be made we just continue.\n",
        "\n",
        "\"\"\"\n",
        "\n",
        "# text1 = \"at the dull\"\n",
        "# text2 = \"collection of textile\"\n",
        "# text3 = \"what a strenuous\"\n",
        "# text4 = \"stop the script\"\n",
        "\n",
        "while(True):\n",
        "\n",
        "    text = input(\"Enter your line: \")\n",
        "    \n",
        "    if text == \"stop the script\":\n",
        "        print(\"Ending The Program.....\")\n",
        "        break\n",
        "    \n",
        "    else:\n",
        "        try:\n",
        "            text = text.split(\" \")\n",
        "            text = text[-1]\n",
        "\n",
        "            text = ''.join(text)\n",
        "            Predict_Next_Words(model, tokenizer, text)\n",
        "            \n",
        "        except:\n",
        "            continue"
      ],
      "execution_count": 38,
      "outputs": [
        {
          "output_type": "stream",
          "text": [
            "Enter your line: at the dull\n"
          ],
          "name": "stdout"
        },
        {
          "output_type": "stream",
          "text": [
            "/usr/local/lib/python3.7/dist-packages/tensorflow/python/keras/engine/sequential.py:455: UserWarning: `model.predict_classes()` is deprecated and will be removed after 2021-01-01. Please use instead:* `np.argmax(model.predict(x), axis=-1)`,   if your model does multi-class classification   (e.g. if it uses a `softmax` last-layer activation).* `(model.predict(x) > 0.5).astype(\"int32\")`,   if your model does binary classification   (e.g. if it uses a `sigmoid` last-layer activation).\n",
            "  warnings.warn('`model.predict_classes()` is deprecated and '\n"
          ],
          "name": "stderr"
        },
        {
          "output_type": "stream",
          "text": [
            "weather\n",
            "Enter your line: stop the script\n",
            "Ending The Program.....\n"
          ],
          "name": "stdout"
        }
      ]
    }
  ]
}